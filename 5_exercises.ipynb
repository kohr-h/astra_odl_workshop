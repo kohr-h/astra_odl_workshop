{
 "cells": [
  {
   "cell_type": "markdown",
   "metadata": {},
   "source": [
    "# Exercises"
   ]
  },
  {
   "cell_type": "markdown",
   "metadata": {},
   "source": [
    "## 1. Create Cone Beam and Helical Geometries\n",
    "\n",
    "Cone beam and helical geometries (divergent beam geometries) require more parameters for their full characterization.\n",
    "\n",
    "### Tasks\n",
    "\n",
    "1. Use the convenience factories to generate all kinds divergent beam geometries.\n",
    "2. Find out which functions are available to query geometry properties. Which one yields points on the \"data manifold\", i.e., locations on the detector during rotation?\n",
    "3. Create a cone beam geometry whose initial source-to-detector vector is $(-4, 0, 0)$ and whose initial detector axes are $(0, 0, -1)$ and $(0, 1, 0)$. What is the handedness of this set of vectors compared to the default one?\n",
    "4. (Bonus) Achieve the same as in 3. with a transformation matrix and the `frommatrix` constructor.\n",
    "\n",
    "### Good to Know\n",
    "\n",
    "* `dir(obj)` returns a list of attributes of `obj`."
   ]
  },
  {
   "cell_type": "markdown",
   "metadata": {},
   "source": [
    "## 3. Tomography with TV Regularization\n",
    "\n",
    "We want to solve the TV-regularized tomography problem\n",
    "\n",
    "$$\n",
    "    \\min_{x \\geq 0} \\left[ \\| A x - y \\|_2^2 + \\alpha \\| \\nabla x \\|_1 \\right],\n",
    "$$\n",
    "\n",
    "where $A: X \\to Y$ is the ray transform. You may pick your favorite acquisition geometry (2D, 3D, parallel beam, cone beam, ...). Play with different solvers, regularizers and data fit terms (see e.g. Exercises 2 and 3).\n",
    "\n",
    "### Tasks\n",
    "\n",
    "1. Solve the TV-regularized tomography problem.\n",
    "2. Use at least one non-smooth and one smooth solver (for the latter, see excercises for the first part).\n",
    "3. Add Poisson noise instead of white noise, and use the KL divergence for regularization (see exercise 2).\n",
    "\n",
    "### Good to Know\n",
    "\n",
    "- The data fit $\\|\\cdot -y\\|_2^2$ is now defined on a different space than for denoising, and also $y$ is no longer an element of the reconstruction space $X$. Make sure you understand the details."
   ]
  },
  {
   "cell_type": "code",
   "execution_count": null,
   "metadata": {},
   "outputs": [],
   "source": []
  }
 ],
 "metadata": {
  "kernelspec": {
   "display_name": "Python 3",
   "language": "python",
   "name": "python3"
  },
  "language_info": {
   "codemirror_mode": {
    "name": "ipython",
    "version": 3
   },
   "file_extension": ".py",
   "mimetype": "text/x-python",
   "name": "python",
   "nbconvert_exporter": "python",
   "pygments_lexer": "ipython3",
   "version": "3.7.2"
  }
 },
 "nbformat": 4,
 "nbformat_minor": 2
}
